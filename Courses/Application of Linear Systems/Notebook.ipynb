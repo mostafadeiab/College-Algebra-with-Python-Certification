{
 "cells": [
  {
   "cell_type": "markdown",
   "metadata": {},
   "source": [
    "# Application of Linear Systems"
   ]
  },
  {
   "cell_type": "markdown",
   "metadata": {},
   "source": [
    "Complete the problems on pages 63, 75, 85, and 118 from \"Business Math, a Step-by-Step Handbook (2021)\".\n",
    "\n",
    "Complete the problems on pages 304, 308, and 321 from \"Algebra and Trigonometry\"."
   ]
  }
 ],
 "metadata": {
  "language_info": {
   "name": "python"
  }
 },
 "nbformat": 4,
 "nbformat_minor": 2
}
