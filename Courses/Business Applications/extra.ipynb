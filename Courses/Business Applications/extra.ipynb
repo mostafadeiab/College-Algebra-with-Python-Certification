{
 "cells": [
  {
   "cell_type": "code",
   "execution_count": null,
   "metadata": {},
   "outputs": [],
   "source": [
    "import pandas as pd\n",
    "import matplotlib.pyplot as plt\n",
    "from google.colab import files\n",
    "import io"
   ]
  },
  {
   "cell_type": "markdown",
   "metadata": {},
   "source": [
    "Upload .csv file from your computer (one option)"
   ]
  },
  {
   "cell_type": "code",
   "execution_count": null,
   "metadata": {},
   "outputs": [],
   "source": [
    "# dialog to upload from computer:\n",
    "uploaded = files.upload()\n",
    "file_name = next(iter(uploaded))\n",
    "table_1 = pd.read_csv(io.BytesIO(uploaded[file_name]))"
   ]
  },
  {
   "cell_type": "markdown",
   "metadata": {},
   "source": [
    "Get .csv from a URL (another option)"
   ]
  },
  {
   "cell_type": "code",
   "execution_count": null,
   "metadata": {},
   "outputs": [],
   "source": [
    "# Data relating to Old Faithful geyser eruptions\n",
    "url = \"https://people.sc.fsu.edu/~jburkardt/data/csv/faithful.csv\"\n",
    "table_1 = pd.read_csv(url)"
   ]
  },
  {
   "cell_type": "markdown",
   "metadata": {},
   "source": [
    "Those imports and that url variable will be good for maybe 20 minutes, so you don't have to repeat those steps each time. Now determine what columns you want and convert them to numpy arrays."
   ]
  },
  {
   "cell_type": "code",
   "execution_count": null,
   "metadata": {},
   "outputs": [],
   "source": [
    "# You could just display the whole table, but that might be too much\n",
    "# table_1\n",
    "\n",
    "# Get the headers so you can see the column names and two rows\n",
    "print(table_1.head(2))\n",
    "\n",
    "# Column names as a variable\n",
    "col_names = table_1.columns\n",
    "\n",
    "# Another way to get column names\n",
    "print(\"\\n column names:\")\n",
    "for a in range(len(col_names)):\n",
    "    print(a, \" \", col_names[a])\n",
    "\n",
    "# One more way\n",
    "print(\"\\n column names:\")\n",
    "for col in col_names:\n",
    "    print(col)"
   ]
  },
  {
   "cell_type": "markdown",
   "metadata": {},
   "source": [
    "Graph index and one other column as (x,y) points."
   ]
  },
  {
   "cell_type": "code",
   "execution_count": null,
   "metadata": {},
   "outputs": [],
   "source": [
    "# convert values to numpy arrays\n",
    "x = table_1['Index'].to_numpy()\n",
    "y = table_1[' \"Eruption length (mins)\"'].to_numpy()\n",
    "\n",
    "#graph\n",
    "xmin = x.min() - 5\n",
    "xmax = x.max() + 5\n",
    "ymin = 0 #y.min() - 5\n",
    "ymax = 6 #y.max() + 5\n",
    "\n",
    "fig, ax = plt.subplots()\n",
    "plt.axis([xmin,xmax,ymin,ymax]) # window size\n",
    "plt.plot([xmin,xmax],[0,0],'b') # blue x axis\n",
    "plt.plot([0,0],[ymin,ymax], 'b') # blue y axis\n",
    "plt.plot(x,y,'ro') # scatterplot \n",
    "#plt.plot(x,y,'b') # line graph\n",
    "plt.show()"
   ]
  },
  {
   "cell_type": "markdown",
   "metadata": {},
   "source": [
    "Using variables for column names"
   ]
  },
  {
   "cell_type": "code",
   "execution_count": null,
   "metadata": {},
   "outputs": [],
   "source": [
    "x_name = col_names[0]\n",
    "y_name = col_names[2]\n",
    "\n",
    "# convert values to numpy arrays\n",
    "x = table_1[x_name].to_numpy()\n",
    "y = table_1[y_name].to_numpy()\n",
    "\n",
    "#graph\n",
    "xmin = 1#x.min() - 5\n",
    "xmax = 55 #x.max() + 5\n",
    "ymin = y.min() - 5\n",
    "ymax = y.max() + 5\n",
    "\n",
    "fig, ax = plt.subplots()\n",
    "plt.axis([xmin,xmax,ymin,ymax]) # window size\n",
    "plt.plot([xmin,xmax],[0,0],'b') # blue x axis\n",
    "plt.plot([0,0],[ymin,ymax], 'b') # blue y axis\n",
    "plt.plot(x,y,'ro') # scatterplot \n",
    "plt.plot(x,y,'b') # line graph\n",
    "ax.set_xlabel(x_name)\n",
    "ax.set_ylabel(y_name)\n",
    "plt.show()"
   ]
  }
 ],
 "metadata": {
  "language_info": {
   "name": "python"
  }
 },
 "nbformat": 4,
 "nbformat_minor": 2
}
