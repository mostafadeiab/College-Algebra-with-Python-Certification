{
 "cells": [
  {
   "cell_type": "code",
   "execution_count": 2,
   "metadata": {},
   "outputs": [
    {
     "name": "stdout",
     "output_type": "stream",
     "text": [
      "Welcome to the Algebra Practice Game!\n",
      "Problem 1: 9x + 10 = 10\n",
      "Invalid Input.\n",
      "Problem 2: -9x + 10 = 82\n",
      "Invalid Input.\n",
      "Problem 3: x/10 + -10 = -7\n",
      "Incorrect. The correct answer was 30.\n",
      "\n",
      "Problem 4: x + -13 = -9\n",
      "Invalid Input.\n",
      "Problem 5: 3x + 2 = 8\n",
      "Invalid Input.\n",
      "Problem 6: x/9 + -8 = -17\n",
      "Invalid Input.\n",
      "Problem 7: x + 3 = 21\n",
      "Invalid Input.\n",
      "Problem 8: x - 19 = -18\n",
      "Invalid Input.\n",
      "Problem 9: 7x + 7 = 35\n",
      "Invalid Input.\n",
      "Problem 10: x + 8 = -9\n",
      "Invalid Input.\n",
      "Game Over! Your final score: 0/10\n"
     ]
    }
   ],
   "source": [
    "import random\n",
    "\n",
    "def generate_one_step_problem():\n",
    "    a = random.randint(-20, 20)\n",
    "    b = random.randint(-20, 20)\n",
    "\n",
    "    opt = random.choice(['+', '-'])\n",
    "    \n",
    "    if opt == '+': return f\"x {opt} {b} = {a + b}\", a\n",
    "    else: return f\"x {opt} {b} = {a - b}\", a\n",
    "    \n",
    "\n",
    "def generate_two_step_problem():\n",
    "    a = random.randint(-10, 10)\n",
    "    b = random.randint(1, 10) \n",
    "    c = random.randint(-10, 10)\n",
    "    \n",
    "    if random.choice([True, False]): return f\"{a}x + {b} = {a*c + b}\", c\n",
    "    else: return f\"x/{b} + {c} = {a + c}\", a * b\n",
    "    \n",
    "\n",
    "print(\"Welcome to the Algebra Practice Game!\")\n",
    "\n",
    "score = 0\n",
    "\n",
    "for i in range(10):\n",
    "    if random.choice([True, False]): problem, solution = generate_one_step_problem()\n",
    "    else: problem, solution = generate_two_step_problem()\n",
    "    \n",
    "    print(f\"Problem {i + 1}: {problem}\")\n",
    "\n",
    "    try: user_answer = int(input(\"Your answer: \").strip())\n",
    "    except ValueError:\n",
    "        print(\"Invalid Input.\")\n",
    "        continue\n",
    "    \n",
    "    if user_answer == solution:\n",
    "        print(\"Correct!\\n\")\n",
    "        score += 1\n",
    "    else: print(f\"Incorrect. The correct answer was {solution}.\\n\")\n",
    "\n",
    "print(f\"Game Over! Your final score: {score}/10\")\n"
   ]
  }
 ],
 "metadata": {
  "kernelspec": {
   "display_name": "Python 3",
   "language": "python",
   "name": "python3"
  },
  "language_info": {
   "codemirror_mode": {
    "name": "ipython",
    "version": 3
   },
   "file_extension": ".py",
   "mimetype": "text/x-python",
   "name": "python",
   "nbconvert_exporter": "python",
   "pygments_lexer": "ipython3",
   "version": "3.10.12"
  }
 },
 "nbformat": 4,
 "nbformat_minor": 2
}
